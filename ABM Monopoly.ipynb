{
 "cells": [
  {
   "cell_type": "code",
   "execution_count": 1,
   "metadata": {
    "collapsed": true
   },
   "outputs": [],
   "source": [
    "class Player:\n",
    "    '''\n",
    "    Player class with a defined strategy\n",
    "        strategy takes an integer 1-4 (inclusive)\n",
    "        property is a dictionary of owned propertys and for the value is a tuple of number of houses, number of hotels\n",
    "        jail_release is a bool indicating ownership of \"get out of jail free cards\"\n",
    "        houses is total count of houses\n",
    "        hotels is total count of hotels\n",
    "        mortgaged_properties indicates which property ids are mortgaged\n",
    "    '''\n",
    "       \n",
    "    def __init__(self, strategy):\n",
    "        self.cash = 2000\n",
    "        self.strategy = strategy\n",
    "        self.position = 0\n",
    "        self.property = {}\n",
    "        self.jail_release = [False,False]\n",
    "        self.houses=0\n",
    "        self.hotels=0\n",
    "        self.mortgaged_properties=set()\n",
    "        \n",
    "        "
   ]
  },
  {
   "cell_type": "code",
   "execution_count": null,
   "metadata": {
    "collapsed": true
   },
   "outputs": [],
   "source": []
  }
 ],
 "metadata": {
  "kernelspec": {
   "display_name": "Python 3",
   "language": "python",
   "name": "python3"
  },
  "language_info": {
   "codemirror_mode": {
    "name": "ipython",
    "version": 3
   },
   "file_extension": ".py",
   "mimetype": "text/x-python",
   "name": "python",
   "nbconvert_exporter": "python",
   "pygments_lexer": "ipython3",
   "version": "3.6.0"
  }
 },
 "nbformat": 4,
 "nbformat_minor": 2
}
